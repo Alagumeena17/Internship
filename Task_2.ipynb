{
 "cells": [
  {
   "cell_type": "code",
   "execution_count": 8,
   "id": "29d7417d",
   "metadata": {},
   "outputs": [
    {
     "name": "stdout",
     "output_type": "stream",
     "text": [
      "Good evening! Time to wind down and relax.\n"
     ]
    }
   ],
   "source": [
    "# Create a program that gives different messages based on time of day\n",
    "from datetime import datetime\n",
    "now = datetime.now()\n",
    "hour = now.hour\n",
    "if 5 <= hour < 12:\n",
    "    message = \"Good morning! Have a productive day ahead.\"\n",
    "elif 12 <= hour < 17:\n",
    "    message = \"Good afternoon! Hope you're enjoying your day.\"\n",
    "elif 17 <= hour < 21:\n",
    "    message = \"Good evening! Time to wind down and relax.\"\n",
    "else:\n",
    "    message = \"Good night! Rest well for tomorrow.\"\n",
    "\n",
    "print(message)"
   ]
  },
  {
   "cell_type": "code",
   "execution_count": 9,
   "id": "f0b3ab3e",
   "metadata": {},
   "outputs": [
    {
     "name": "stdout",
     "output_type": "stream",
     "text": [
      "Too high! The number was 3\n"
     ]
    }
   ],
   "source": [
    "# Build a number guessing game using if-else statements\n",
    "import random\n",
    "number_to_guess = random.randint(1, 10)\n",
    "guess = int(input(\"Guess a number between 1 and 10: \"))\n",
    "if guess == number_to_guess:\n",
    "    print(\"Congratulations! You guessed it right!\")\n",
    "elif guess < number_to_guess:\n",
    "    print(\"Too low! The number was\", number_to_guess)\n",
    "else:\n",
    "    print(\"Too high! The number was\", number_to_guess)\n"
   ]
  },
  {
   "cell_type": "code",
   "execution_count": 7,
   "id": "16413924",
   "metadata": {},
   "outputs": [
    {
     "name": "stdout",
     "output_type": "stream",
     "text": [
      "1,2,3,4,5,6,7,8,9,10,11,12,13,14,15,16,17,18,19,20,21,22,23,24,25,26,27,28,29,30,31,32,33,34,35,36,37,38,39,40,41,42,43,44,45,46,47,48,49,50,51,52,53,54,55,56,57,58,59,60,61,62,63,64,65,66,67,68,69,70,71,72,73,74,75,76,77,78,79,80,81,82,83,84,85,86,87,88,89,90,91,92,93,94,95,96,97,98,99,100,"
     ]
    }
   ],
   "source": [
    "# Use for loop to print numbers from 1 to 100\n",
    "for i in range(1,101):\n",
    "    print (i,end=',')"
   ]
  },
  {
   "cell_type": "code",
   "execution_count": 10,
   "id": "85c1f4ff",
   "metadata": {},
   "outputs": [
    {
     "name": "stdout",
     "output_type": "stream",
     "text": [
      "The area of the rectangle is: 50\n"
     ]
    }
   ],
   "source": [
    "# Create a function that calculates area of rectangle\n",
    "def rectangle_area(length, width):\n",
    "    area = length * width\n",
    "    return area\n",
    "result = rectangle_area(5, 10)\n",
    "print(\"The area of the rectangle is:\", result)\n"
   ]
  },
  {
   "cell_type": "code",
   "execution_count": 11,
   "id": "6c8c542a",
   "metadata": {},
   "outputs": [
    {
     "name": "stdout",
     "output_type": "stream",
     "text": [
      "Result: 0.8333333333333334\n"
     ]
    }
   ],
   "source": [
    "# Make a simple calculator that can add, subtract, multiply, divide\n",
    "def calculator(num1, num2, operator):\n",
    "    if operator == '+':\n",
    "        return num1 + num2\n",
    "    elif operator == '-':\n",
    "        return num1 - num2\n",
    "    elif operator == '*':\n",
    "        return num1 * num2\n",
    "    elif operator == '/':\n",
    "        if num2 == 0:\n",
    "            return \"Error: Cannot divide by zero.\"\n",
    "        return num1 / num2\n",
    "    else:\n",
    "        return \"Invalid operator. Please use +, -, *, or /.\"\n",
    "\n",
    "number1 = float(input(\"Enter the first number: \"))\n",
    "number2 = float(input(\"Enter the second number: \"))\n",
    "op = input(\"Enter operator (+, -, *, /): \")\n",
    "\n",
    "result = calculator(number1, number2, op)\n",
    "print(\"Result:\", result)\n"
   ]
  },
  {
   "cell_type": "code",
   "execution_count": 12,
   "id": "2a4df044",
   "metadata": {},
   "outputs": [
    {
     "name": "stdout",
     "output_type": "stream",
     "text": [
      "Grade: B\n"
     ]
    }
   ],
   "source": [
    "# Practice with real-life scenarios: grading system, age categories\n",
    "def grade_mark(score):\n",
    "    if score >= 90:\n",
    "        return \"A\"\n",
    "    elif score >= 80:\n",
    "        return \"B\"\n",
    "    elif score >= 70:\n",
    "        return \"C\"\n",
    "    elif score >= 60:\n",
    "        return \"D\"\n",
    "    else:\n",
    "        return \"F\"\n",
    "\n",
    "mark = float(input(\"Enter score (0-100): \"))\n",
    "print(\"Grade:\", grade_mark(mark))\n"
   ]
  },
  {
   "cell_type": "code",
   "execution_count": 17,
   "id": "6c4e5c7b",
   "metadata": {},
   "outputs": [
    {
     "name": "stdout",
     "output_type": "stream",
     "text": [
      "Grade: B\n",
      "Message: Great job! You're doing well!\n"
     ]
    }
   ],
   "source": [
    "# Build a Simple Student Grade Calculator that takes marks and returns grade (A, B, C, etc.) with encouraging messages for each grade\n",
    "def student_grade_calculator(marks):\n",
    "    if marks >= 90:\n",
    "        grade = \"A\"\n",
    "        message = \"Excellent work! Keep it up!\"\n",
    "    elif marks >= 80:\n",
    "        grade = \"B\"\n",
    "        message = \"Great job! You're doing well!\"\n",
    "    elif marks >= 70:\n",
    "        grade = \"C\"\n",
    "        message = \"Good effort! You can reach higher!\"\n",
    "    elif marks >= 60:\n",
    "        grade = \"D\"\n",
    "        message = \"Keep trying! Improvement is possible!\"\n",
    "    else:\n",
    "        grade = \"F\"\n",
    "        message = \"Don't give up! Work harder and you'll get there!\"\n",
    "\n",
    "    return grade, message\n",
    "\n",
    "score = float(input(\"Enter your marks (0-100): \"))\n",
    "grade, encouragement = student_grade_calculator(score)\n",
    "print(f\"Grade: {grade}\\nMessage: {encouragement}\")\n"
   ]
  },
  {
   "cell_type": "code",
   "execution_count": null,
   "id": "80e1150a",
   "metadata": {},
   "outputs": [],
   "source": []
  }
 ],
 "metadata": {
  "kernelspec": {
   "display_name": "Python 3",
   "language": "python",
   "name": "python3"
  },
  "language_info": {
   "codemirror_mode": {
    "name": "ipython",
    "version": 3
   },
   "file_extension": ".py",
   "mimetype": "text/x-python",
   "name": "python",
   "nbconvert_exporter": "python",
   "pygments_lexer": "ipython3",
   "version": "3.13.9"
  }
 },
 "nbformat": 4,
 "nbformat_minor": 5
}
