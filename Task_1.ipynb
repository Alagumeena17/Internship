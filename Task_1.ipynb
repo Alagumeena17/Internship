{
 "cells": [
  {
   "cell_type": "code",
   "execution_count": null,
   "id": "71c42629",
   "metadata": {},
   "outputs": [
    {
     "name": "stdout",
     "output_type": "stream",
     "text": [
      "Hello World\n"
     ]
    }
   ],
   "source": [
    "# Write your first 'Hello World' program and run it\n",
    "\n",
    "print(\"Hello World\")"
   ]
  },
  {
   "cell_type": "code",
   "execution_count": 3,
   "id": "04f3cd1a",
   "metadata": {},
   "outputs": [],
   "source": [
    "# Create variables to store your personal information (name, age, city)\n",
    "\n",
    "name = input(\"Enter your name: \")\n",
    "age = int(input(\"Enter your age: \"))\n",
    "city = input(\"Enter your city: \")"
   ]
  },
  {
   "cell_type": "code",
   "execution_count": 5,
   "id": "d961e427",
   "metadata": {},
   "outputs": [
    {
     "name": "stdout",
     "output_type": "stream",
     "text": [
      "Name : Meena \n",
      "Age : 26 \n",
      "City : Coimbatore \n"
     ]
    }
   ],
   "source": [
    "print(f\"Name : {name} \\nAge : {age} \\nCity : {city} \")"
   ]
  },
  {
   "cell_type": "code",
   "execution_count": 9,
   "id": "d824584d",
   "metadata": {},
   "outputs": [
    {
     "name": "stdout",
     "output_type": "stream",
     "text": [
      "Addition : 35 \n",
      "Subtraction : 5 \n",
      "Multiplication : 300 \n",
      "Division : 1.3333333333333333 \n",
      "Floor division : 1 \n",
      "Modulous : 5\n"
     ]
    }
   ],
   "source": [
    "# Practice basic math calculations in Python\n",
    "\n",
    "a = 15\n",
    "b = 20\n",
    "addition = a + b\n",
    "subtraction = b - a\n",
    "multiplication = a * b\n",
    "division = b/a\n",
    "floor_division = b//a\n",
    "modulous = b%a\n",
    "\n",
    "print(f\"Addition : {addition} \\nSubtraction : {subtraction} \\nMultiplication : {multiplication} \\nDivision : {division} \\nFloor division : {floor_division} \\nModulous : {modulous}\")\n"
   ]
  },
  {
   "cell_type": "code",
   "execution_count": 10,
   "id": "28b4c062",
   "metadata": {},
   "outputs": [],
   "source": [
    "# Create a list of your favorite foods and learn to access them\n",
    "\n",
    "fav_food = ['Briyani','Fish fry','Chicken','Fried rice']"
   ]
  },
  {
   "cell_type": "code",
   "execution_count": 11,
   "id": "a504ea0f",
   "metadata": {},
   "outputs": [
    {
     "data": {
      "text/plain": [
       "'Fish fry'"
      ]
     },
     "execution_count": 11,
     "metadata": {},
     "output_type": "execute_result"
    }
   ],
   "source": [
    "fav_food[1]"
   ]
  },
  {
   "cell_type": "code",
   "execution_count": 12,
   "id": "d82a7d6c",
   "metadata": {},
   "outputs": [
    {
     "data": {
      "text/plain": [
       "['Briyani', 'Fish fry', 'Chicken', 'Fried rice']"
      ]
     },
     "execution_count": 12,
     "metadata": {},
     "output_type": "execute_result"
    }
   ],
   "source": [
    "fav_food"
   ]
  },
  {
   "cell_type": "code",
   "execution_count": 13,
   "id": "4d578562",
   "metadata": {},
   "outputs": [
    {
     "name": "stdout",
     "output_type": "stream",
     "text": [
      "Name : Alagumeena \n",
      "Age : 25 \n",
      "City : Coimbatore \n",
      "Mother tongue : Tamil\n"
     ]
    }
   ],
   "source": [
    "# Build a simple bio-data program that displays your information\n",
    "\n",
    "name = input(\"Enter your name: \")\n",
    "age = int(input(\"Enter your age: \"))\n",
    "city = input(\"Enter your city: \")\n",
    "lang = input(\"Enter your mother tongue: \")\n",
    "\n",
    "print(f\"Name : {name} \\nAge : {age} \\nCity : {city} \\nMother tongue : {lang}\")"
   ]
  },
  {
   "cell_type": "code",
   "execution_count": 14,
   "id": "951e02f0",
   "metadata": {},
   "outputs": [
    {
     "name": "stdout",
     "output_type": "stream",
     "text": [
      "Name : Alagu \n",
      "Age : 23 \n",
      "City : Coimbatore \n",
      "Hobby : Drawing \n",
      "Welcome dear Alagu. \n",
      "Have a nice day!\n"
     ]
    }
   ],
   "source": [
    "# Create a Personal Introduction Program that asks for user's name, age, and hobby, then displays a friendly welcome message with their information\n",
    "\n",
    "name = input(\"Enter your name: \")\n",
    "age = int(input(\"Enter your age: \"))\n",
    "city = input(\"Enter your city: \")\n",
    "hobby = input(\"Enter your hobby: \")\n",
    "\n",
    "print(f\"Name : {name} \\nAge : {age} \\nCity : {city} \\nHobby : {hobby} \\nWelcome dear {name}. \\nHave a nice day!\")"
   ]
  }
 ],
 "metadata": {
  "kernelspec": {
   "display_name": "Python 3",
   "language": "python",
   "name": "python3"
  },
  "language_info": {
   "codemirror_mode": {
    "name": "ipython",
    "version": 3
   },
   "file_extension": ".py",
   "mimetype": "text/x-python",
   "name": "python",
   "nbconvert_exporter": "python",
   "pygments_lexer": "ipython3",
   "version": "3.13.8"
  }
 },
 "nbformat": 4,
 "nbformat_minor": 5
}
